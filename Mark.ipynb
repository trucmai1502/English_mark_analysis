{
 "cells": [
  {
   "cell_type": "markdown",
   "metadata": {},
   "source": [
    "# Điểm Tiếng Anh "
   ]
  },
  {
   "cell_type": "code",
   "execution_count": 4,
   "metadata": {},
   "outputs": [],
   "source": [
    "import numpy as np\n",
    "import pandas as pd\n",
    "import matplotlib.pyplot as plt"
   ]
  },
  {
   "cell_type": "code",
   "execution_count": 16,
   "metadata": {},
   "outputs": [],
   "source": [
    "df = pd.read_excel(\"mark.xlsx\")"
   ]
  },
  {
   "cell_type": "code",
   "execution_count": 125,
   "metadata": {},
   "outputs": [
    {
     "data": {
      "text/html": [
       "<div>\n",
       "<style scoped>\n",
       "    .dataframe tbody tr th:only-of-type {\n",
       "        vertical-align: middle;\n",
       "    }\n",
       "\n",
       "    .dataframe tbody tr th {\n",
       "        vertical-align: top;\n",
       "    }\n",
       "\n",
       "    .dataframe thead th {\n",
       "        text-align: right;\n",
       "    }\n",
       "</style>\n",
       "<table border=\"1\" class=\"dataframe\">\n",
       "  <thead>\n",
       "    <tr style=\"text-align: right;\">\n",
       "      <th></th>\n",
       "      <th>Lớp</th>\n",
       "      <th>Tổng số bài</th>\n",
       "      <th>&lt;5</th>\n",
       "      <th>5,6</th>\n",
       "      <th>7,8,</th>\n",
       "      <th>9,10</th>\n",
       "      <th>Tỷ lệ nộp bài</th>\n",
       "    </tr>\n",
       "  </thead>\n",
       "  <tbody>\n",
       "    <tr>\n",
       "      <th>0</th>\n",
       "      <td>A1</td>\n",
       "      <td>49</td>\n",
       "      <td>10</td>\n",
       "      <td>18</td>\n",
       "      <td>21</td>\n",
       "      <td>0</td>\n",
       "      <td>83.050847</td>\n",
       "    </tr>\n",
       "    <tr>\n",
       "      <th>1</th>\n",
       "      <td>A2</td>\n",
       "      <td>54</td>\n",
       "      <td>3</td>\n",
       "      <td>22</td>\n",
       "      <td>21</td>\n",
       "      <td>8</td>\n",
       "      <td>100.000000</td>\n",
       "    </tr>\n",
       "    <tr>\n",
       "      <th>2</th>\n",
       "      <td>A3</td>\n",
       "      <td>55</td>\n",
       "      <td>12</td>\n",
       "      <td>13</td>\n",
       "      <td>27</td>\n",
       "      <td>3</td>\n",
       "      <td>100.000000</td>\n",
       "    </tr>\n",
       "  </tbody>\n",
       "</table>\n",
       "</div>"
      ],
      "text/plain": [
       "  Lớp  Tổng số bài  <5  5,6  7,8,  9,10  Tỷ lệ nộp bài\n",
       "0  A1           49  10   18    21     0      83.050847\n",
       "1  A2           54   3   22    21     8     100.000000\n",
       "2  A3           55  12   13    27     3     100.000000"
      ]
     },
     "execution_count": 125,
     "metadata": {},
     "output_type": "execute_result"
    }
   ],
   "source": [
    "#Bảng dữ liệu\n",
    "df"
   ]
  },
  {
   "cell_type": "markdown",
   "metadata": {},
   "source": [
    "## Tỷ lệ nộp bài giữa các lớp"
   ]
  },
  {
   "cell_type": "code",
   "execution_count": 126,
   "metadata": {},
   "outputs": [
    {
     "data": {
      "text/plain": [
       "0     83.050847\n",
       "1    100.000000\n",
       "2    100.000000\n",
       "Name: Tỷ lệ nộp bài, dtype: float64"
      ]
     },
     "execution_count": 126,
     "metadata": {},
     "output_type": "execute_result"
    }
   ],
   "source": [
    "fraction = df[\"Tỷ lệ nộp bài\"]\n",
    "fraction"
   ]
  },
  {
   "cell_type": "code",
   "execution_count": 30,
   "metadata": {},
   "outputs": [
    {
     "data": {
      "text/plain": [
       "<BarContainer object of 3 artists>"
      ]
     },
     "execution_count": 30,
     "metadata": {},
     "output_type": "execute_result"
    },
    {
     "data": {
      "image/png": "[encoded data removed]",
      "text/plain": [
       "<Figure size 432x288 with 1 Axes>"
      ]
     },
     "metadata": {
      "needs_background": "light"
     },
     "output_type": "display_data"
    }
   ],
   "source": [
    "fig = plt.figure()\n",
    "class_ = [\"A1\",\"A2\",\"A3\"]\n",
    "ax = fig.add_axes([0,0,1,1])\n",
    "ax.bar(class_,fraction)"
   ]
  },
  {
   "cell_type": "markdown",
   "metadata": {},
   "source": [
    "## Điểm trung bình (tính từ điểm 5 -> 10)"
   ]
  },
  {
   "cell_type": "code",
   "execution_count": 127,
   "metadata": {},
   "outputs": [
    {
     "name": "stdout",
     "output_type": "stream",
     "text": [
      "Điểm trung bình A1 : 5.63265306122449\n"
     ]
    }
   ],
   "source": [
    "a1_mean_mark = np.sum(np.array([ df[\"5,6\"][0]*6,df[\"7,8,\"][0]*8,df[\"9,10\"][0]*10]))/df[\"Tổng số bài\"][0]\n",
    "print(\"Điểm trung bình A1 : \" + str(a1_mean_mark))"
   ]
  },
  {
   "cell_type": "code",
   "execution_count": 128,
   "metadata": {},
   "outputs": [
    {
     "name": "stdout",
     "output_type": "stream",
     "text": [
      "Điểm trung bình A2: 7.037037037037037\n"
     ]
    }
   ],
   "source": [
    "a2_mean_mark = np.sum(np.array([ df[\"5,6\"][1]*6,df[\"7,8,\"][1]*8,df[\"9,10\"][1]*10]))/df[\"Tổng số bài\"][1]\n",
    "print(\"Điểm trung bình A2: \" + str(a2_mean_mark))"
   ]
  },
  {
   "cell_type": "code",
   "execution_count": 129,
   "metadata": {},
   "outputs": [
    {
     "name": "stdout",
     "output_type": "stream",
     "text": [
      "Điểm trung bình A3: 5.890909090909091\n"
     ]
    }
   ],
   "source": [
    "a3_mean_mark = np.sum(np.array([ df[\"5,6\"][2]*6,df[\"7,8,\"][2]*8,df[\"9,10\"][2]*10]))/df[\"Tổng số bài\"][2]\n",
    "print(\"Điểm trung bình A3: \" + str(a3_mean_mark))"
   ]
  },
  {
   "cell_type": "code",
   "execution_count": 67,
   "metadata": {},
   "outputs": [],
   "source": [
    "mean_mark = np.array([a1_mean_mark,a2_mean_mark,a3_mean_mark])"
   ]
  },
  {
   "cell_type": "code",
   "execution_count": 130,
   "metadata": {},
   "outputs": [
    {
     "data": {
      "text/plain": [
       "<BarContainer object of 3 artists>"
      ]
     },
     "execution_count": 130,
     "metadata": {},
     "output_type": "execute_result"
    },
    {
     "data": {
      "image/png": "[encoded data removed]",
      "text/plain": [
       "<Figure size 432x288 with 1 Axes>"
      ]
     },
     "metadata": {
      "needs_background": "light"
     },
     "output_type": "display_data"
    }
   ],
   "source": [
    "fig = plt.figure()\n",
    "class_ = [\"A1\",\"A2\",\"A3\"]\n",
    "ax = fig.add_axes([0,0,1,1])\n",
    "plt.title(\"Điểm trung bình\")\n",
    "ax.bar(class_,mean_mark)"
   ]
  },
  {
   "cell_type": "markdown",
   "metadata": {},
   "source": [
    "## Tỷ lệ giữa các đầu điểm"
   ]
  },
  {
   "cell_type": "code",
   "execution_count": 140,
   "metadata": {},
   "outputs": [],
   "source": [
    "below_five_mark = df[\"<5\"]\n",
    "five_to_six = df[\"5,6\"]\n",
    "seven_to_eight = df[\"7,8,\"]\n",
    "nine_to_ten = df[\"9,10\"]"
   ]
  },
  {
   "cell_type": "markdown",
   "metadata": {},
   "source": [
    "### A1"
   ]
  },
  {
   "cell_type": "code",
   "execution_count": 145,
   "metadata": {},
   "outputs": [
    {
     "name": "stdout",
     "output_type": "stream",
     "text": [
      "Điểm dưới 5: 10\n",
      "Điểm từ 5 đến 6: 18\n",
      "Điểm từ 7 đến 8: 21\n",
      "Điểm từ 9 đến 10: 0\n"
     ]
    }
   ],
   "source": [
    "a1_below_five_mark = below_five_mark[0]\n",
    "a1_five_to_six = df[\"5,6\"][0]\n",
    "a1_seven_to_eight = df[\"7,8,\"][0]\n",
    "a1_nine_to_ten = df[\"9,10\"][0]\n",
    "print(\"Điểm dưới 5: \" + str(a1_below_five_mark))\n",
    "print(\"Điểm từ 5 đến 6: \" + str(a1_five_to_six))\n",
    "print(\"Điểm từ 7 đến 8: \" + str(a1_seven_to_eight))\n",
    "print(\"Điểm từ 9 đến 10: \" + str(a1_nine_to_ten))"
   ]
  },
  {
   "cell_type": "code",
   "execution_count": 148,
   "metadata": {},
   "outputs": [
    {
     "name": "stdout",
     "output_type": "stream",
     "text": [
      "Tỷ lệ điểm dưới 5: 20.408163265306122%\n",
      "Tỷ lệ điểm từ 5 đến 6: 36.734693877551024%\n",
      "Tỷ lệ điểm từ 7 đến 8: 42.857142857142854%\n",
      "Tỷ lệ điểm từ 9 đến 10: 0.0%\n"
     ]
    }
   ],
   "source": [
    "a1_fraction_of_below_five_mark = a1_below_five_mark/df[\"Tổng số bài\"][0]*100\n",
    "a1_fraction_of_five_to_six = a1_five_to_six/df[\"Tổng số bài\"][0]*100\n",
    "a1_fraction_of_seven_to_eight = a1_seven_to_eight/df[\"Tổng số bài\"][0]*100\n",
    "a1_fraction_of_nine_to_ten = a1_nine_to_ten/df[\"Tổng số bài\"][0]*100\n",
    "print(\"Tỷ lệ điểm dưới 5: \" + str(a1_fraction_of_below_five_mark) + \"%\")\n",
    "print(\"Tỷ lệ điểm từ 5 đến 6: \" + str(a1_fraction_of_five_to_six) + \"%\")\n",
    "print(\"Tỷ lệ điểm từ 7 đến 8: \" + str(a1_fraction_of_seven_to_eight) + \"%\")\n",
    "print(\"Tỷ lệ điểm từ 9 đến 10: \" + str(a1_fraction_of_nine_to_ten) + \"%\")"
   ]
  },
  {
   "cell_type": "code",
   "execution_count": 160,
   "metadata": {},
   "outputs": [
    {
     "data": {
      "text/plain": [
       "([<matplotlib.patches.Wedge at 0x23cb2eefca0>,\n",
       "  <matplotlib.patches.Wedge at 0x23cb2efc220>,\n",
       "  <matplotlib.patches.Wedge at 0x23cb2efc6a0>,\n",
       "  <matplotlib.patches.Wedge at 0x23cb2efcb20>],\n",
       " [Text(0.8815550003973611, 0.6579215616427303, 'Dưới 5'),\n",
       "  Text(-0.8375905269567921, 0.7130512668470924, 'Từ 5 đến 6'),\n",
       "  Text(0.2447730130080494, -1.0724207066739067, 'Từ 7 đến 8'),\n",
       "  Text(1.1, -2.6942229581241775e-16, 'Từ 9 đến 10')])"
      ]
     },
     "execution_count": 160,
     "metadata": {},
     "output_type": "execute_result"
    },
    {
     "data": {
      "image/png": "[encoded data removed]",
      "text/plain": [
       "<Figure size 432x288 with 1 Axes>"
      ]
     },
     "metadata": {},
     "output_type": "display_data"
    }
   ],
   "source": [
    "plt.title(\"Tỷ lệ điểm A1\")\n",
    "a1_fraction_mark = np.array([a1_fraction_of_below_five_mark,a1_fraction_of_five_to_six,a1_fraction_of_seven_to_eight,a1_fraction_of_nine_to_ten])\n",
    "plt.pie(a1_fraction_mark,labels = [\"Dưới 5\",\"Từ 5 đến 6\",\"Từ 7 đến 8\",\"Từ 9 đến 10\"])"
   ]
  },
  {
   "cell_type": "markdown",
   "metadata": {},
   "source": [
    "### A2"
   ]
  },
  {
   "cell_type": "code",
   "execution_count": 157,
   "metadata": {},
   "outputs": [
    {
     "name": "stdout",
     "output_type": "stream",
     "text": [
      "Điểm dưới 5: 3\n",
      "Điểm từ 5 đến 6: 22\n",
      "Điểm từ 7 đến 8: 21\n",
      "Điểm từ 9 đến 10: 8\n"
     ]
    }
   ],
   "source": [
    "a2_below_five_mark = below_five_mark[1]\n",
    "a2_five_to_six = df[\"5,6\"][1]\n",
    "a2_seven_to_eight = df[\"7,8,\"][1]\n",
    "a2_nine_to_ten = df[\"9,10\"][1]\n",
    "print(\"Điểm dưới 5: \" + str(a2_below_five_mark))\n",
    "print(\"Điểm từ 5 đến 6: \" + str(a2_five_to_six))\n",
    "print(\"Điểm từ 7 đến 8: \" + str(a2_seven_to_eight))\n",
    "print(\"Điểm từ 9 đến 10: \" + str(a2_nine_to_ten))"
   ]
  },
  {
   "cell_type": "code",
   "execution_count": 158,
   "metadata": {},
   "outputs": [
    {
     "name": "stdout",
     "output_type": "stream",
     "text": [
      "Tỷ lệ điểm dưới 5: 6.122448979591836%\n",
      "Tỷ lệ điểm từ 5 đến 6: 44.89795918367347%\n",
      "Tỷ lệ điểm từ 7 đến 8: 42.857142857142854%\n",
      "Tỷ lệ điểm từ 9 đến 10: 16.3265306122449%\n"
     ]
    }
   ],
   "source": [
    "a2_fraction_of_below_five_mark = a2_below_five_mark/df[\"Tổng số bài\"][0]*100\n",
    "a2_fraction_of_five_to_six = a2_five_to_six/df[\"Tổng số bài\"][0]*100\n",
    "a2_fraction_of_seven_to_eight = a2_seven_to_eight/df[\"Tổng số bài\"][0]*100\n",
    "a2_fraction_of_nine_to_ten = a2_nine_to_ten/df[\"Tổng số bài\"][0]*100\n",
    "print(\"Tỷ lệ điểm dưới 5: \" + str(a2_fraction_of_below_five_mark) + \"%\")\n",
    "print(\"Tỷ lệ điểm từ 5 đến 6: \" + str(a2_fraction_of_five_to_six) + \"%\")\n",
    "print(\"Tỷ lệ điểm từ 7 đến 8: \" + str(a2_fraction_of_seven_to_eight) + \"%\")\n",
    "print(\"Tỷ lệ điểm từ 9 đến 10: \" + str(a2_fraction_of_nine_to_ten) + \"%\")"
   ]
  },
  {
   "cell_type": "code",
   "execution_count": 164,
   "metadata": {},
   "outputs": [
    {
     "data": {
      "text/plain": [
       "([<matplotlib.patches.Wedge at 0x23cb2fdc2e0>,\n",
       "  <matplotlib.patches.Wedge at 0x23cb2fdc610>,\n",
       "  <matplotlib.patches.Wedge at 0x23cb2fdca90>,\n",
       "  <matplotlib.patches.Wedge at 0x23cb2fdcf10>],\n",
       " [Text(1.083288528065041, 0.19101299684230105, 'Dưới 5'),\n",
       "  Text(-0.06395940224081137, 1.0981389688309027, 'Từ 5 đến 6'),\n",
       "  Text(-0.6044597077686759, -0.9190367031213755, 'Từ 7 đến 8'),\n",
       "  Text(0.9829960066423614, -0.4936788945510742, 'Từ 9 đến 10')])"
      ]
     },
     "execution_count": 164,
     "metadata": {},
     "output_type": "execute_result"
    },
    {
     "data": {
      "image/png": "[encoded data removed]",
      "text/plain": [
       "<Figure size 432x288 with 1 Axes>"
      ]
     },
     "metadata": {},
     "output_type": "display_data"
    }
   ],
   "source": [
    "plt.title(\"Tỷ lệ điểm A2\")\n",
    "a2_fraction_mark = np.array([a2_fraction_of_below_five_mark,a2_fraction_of_five_to_six,a2_fraction_of_seven_to_eight,a2_fraction_of_nine_to_ten])\n",
    "plt.pie(a2_fraction_mark,labels = [\"Dưới 5\",\"Từ 5 đến 6\",\"Từ 7 đến 8\",\"Từ 9 đến 10\"])"
   ]
  },
  {
   "cell_type": "markdown",
   "metadata": {},
   "source": [
    "### A3\n"
   ]
  },
  {
   "cell_type": "code",
   "execution_count": 165,
   "metadata": {},
   "outputs": [
    {
     "name": "stdout",
     "output_type": "stream",
     "text": [
      "Điểm dưới 5: 12\n",
      "Điểm từ 5 đến 6: 13\n",
      "Điểm từ 7 đến 8: 27\n",
      "Điểm từ 9 đến 10: 3\n"
     ]
    }
   ],
   "source": [
    "a3_below_five_mark = below_five_mark[2]\n",
    "a3_five_to_six = df[\"5,6\"][2]\n",
    "a3_seven_to_eight = df[\"7,8,\"][2]\n",
    "a3_nine_to_ten = df[\"9,10\"][2]\n",
    "print(\"Điểm dưới 5: \" + str(a3_below_five_mark))\n",
    "print(\"Điểm từ 5 đến 6: \" + str(a3_five_to_six))\n",
    "print(\"Điểm từ 7 đến 8: \" + str(a3_seven_to_eight))\n",
    "print(\"Điểm từ 9 đến 10: \" + str(a3_nine_to_ten))"
   ]
  },
  {
   "cell_type": "code",
   "execution_count": 170,
   "metadata": {},
   "outputs": [
    {
     "name": "stdout",
     "output_type": "stream",
     "text": [
      "Tỷ lệ điểm dưới 5: 21.818181818181817%\n",
      "Tỷ lệ điểm từ 5 đến 6: 23.636363636363637%\n",
      "Tỷ lệ điểm từ 7 đến 8: 49.09090909090909%\n",
      "Tỷ lệ điểm từ 9 đến 10: 5.454545454545454%\n"
     ]
    }
   ],
   "source": [
    "a3_fraction_of_below_five_mark = a3_below_five_mark/df[\"Tổng số bài\"][2]*100\n",
    "a3_fraction_of_five_to_six = a3_five_to_six/df[\"Tổng số bài\"][2]*100\n",
    "a3_fraction_of_seven_to_eight = a3_seven_to_eight/df[\"Tổng số bài\"][2]*100\n",
    "a3_fraction_of_nine_to_ten = a3_nine_to_ten/df[\"Tổng số bài\"][2]*100\n",
    "print(\"Tỷ lệ điểm dưới 5: \" + str(a3_fraction_of_below_five_mark) + \"%\")\n",
    "print(\"Tỷ lệ điểm từ 5 đến 6: \" + str(a3_fraction_of_five_to_six) + \"%\")\n",
    "print(\"Tỷ lệ điểm từ 7 đến 8: \" + str(a3_fraction_of_seven_to_eight) + \"%\")\n",
    "print(\"Tỷ lệ điểm từ 9 đến 10: \" + str(a3_fraction_of_nine_to_ten) + \"%\")"
   ]
  },
  {
   "cell_type": "code",
   "execution_count": 172,
   "metadata": {
    "scrolled": true
   },
   "outputs": [
    {
     "data": {
      "text/plain": [
       "([<matplotlib.patches.Wedge at 0x23cb411d580>,\n",
       "  <matplotlib.patches.Wedge at 0x23cb411da90>,\n",
       "  <matplotlib.patches.Wedge at 0x23cb411df10>,\n",
       "  <matplotlib.patches.Wedge at 0x23cb412a3d0>],\n",
       " [Text(0.8515557705176527, 0.6963137006393648, 'Dưới 5'),\n",
       "  Text(-0.5680372053975427, 0.9419839347272065, 'Từ 5 đến 6'),\n",
       "  Text(-0.33991877217145866, -1.046162142464278, 'Từ 7 đến 8'),\n",
       "  Text(1.0838891930096486, -0.18757456457871127, 'Từ 9 đến 10')])"
      ]
     },
     "execution_count": 172,
     "metadata": {},
     "output_type": "execute_result"
    },
    {
     "data": {
      "image/png": "[encoded data removed]",
      "text/plain": [
       "<Figure size 432x288 with 1 Axes>"
      ]
     },
     "metadata": {},
     "output_type": "display_data"
    }
   ],
   "source": [
    "plt.title(\"Tỷ lệ điểm A3\")\n",
    "a3_fraction_mark = np.array([a3_fraction_of_below_five_mark,a3_fraction_of_five_to_six,a3_fraction_of_seven_to_eight,a3_fraction_of_nine_to_ten])\n",
    "plt.pie(a3_fraction_mark,labels = [\"Dưới 5\",\"Từ 5 đến 6\",\"Từ 7 đến 8\",\"Từ 9 đến 10\"])"
   ]
  },
  {
   "cell_type": "markdown",
   "metadata": {},
   "source": [
    "## So sánh tỷ lệ điểm giữa các lớp"
   ]
  },
  {
   "cell_type": "markdown",
   "metadata": {},
   "source": [
    "### Tỷ lệ điểm dưới 5"
   ]
  },
  {
   "cell_type": "code",
   "execution_count": 181,
   "metadata": {},
   "outputs": [
    {
     "data": {
      "text/plain": [
       "<BarContainer object of 3 artists>"
      ]
     },
     "execution_count": 181,
     "metadata": {},
     "output_type": "execute_result"
    },
    {
     "data": {
      "image/png": "[encoded data removed]",
      "text/plain": [
       "<Figure size 432x288 with 1 Axes>"
      ]
     },
     "metadata": {
      "needs_background": "light"
     },
     "output_type": "display_data"
    }
   ],
   "source": [
    "fig = plt.figure()\n",
    "class_ = [\"A1\",\"A2\",\"A3\"]\n",
    "ax = fig.add_axes([0,0,1,1])\n",
    "plt.title(\"Điểm dưới 5\")\n",
    "ax.bar(class_,[a1_fraction_of_below_five_mark,a2_fraction_of_below_five_mark,a3_fraction_of_below_five_mark])"
   ]
  },
  {
   "cell_type": "markdown",
   "metadata": {},
   "source": [
    "### Từ 5 đến 6"
   ]
  },
  {
   "cell_type": "code",
   "execution_count": 182,
   "metadata": {},
   "outputs": [
    {
     "data": {
      "text/plain": [
       "<BarContainer object of 3 artists>"
      ]
     },
     "execution_count": 182,
     "metadata": {},
     "output_type": "execute_result"
    },
    {
     "data": {
      "image/png": "[encoded data removed]",
      "text/plain": [
       "<Figure size 432x288 with 1 Axes>"
      ]
     },
     "metadata": {
      "needs_background": "light"
     },
     "output_type": "display_data"
    }
   ],
   "source": [
    "fig = plt.figure()\n",
    "class_ = [\"A1\",\"A2\",\"A3\"]\n",
    "ax = fig.add_axes([0,0,1,1])\n",
    "plt.title(\"Điểm từ 5 đến 6\")\n",
    "ax.bar(class_,[a1_fraction_of_five_to_six,a2_fraction_of_five_to_six,a3_fraction_of_five_to_six])"
   ]
  },
  {
   "cell_type": "markdown",
   "metadata": {},
   "source": [
    "### Từ 7 đến 8"
   ]
  },
  {
   "cell_type": "code",
   "execution_count": 183,
   "metadata": {},
   "outputs": [
    {
     "data": {
      "text/plain": [
       "<BarContainer object of 3 artists>"
      ]
     },
     "execution_count": 183,
     "metadata": {},
     "output_type": "execute_result"
    },
    {
     "data": {
      "image/png": "[encoded data removed]",
      "text/plain": [
       "<Figure size 432x288 with 1 Axes>"
      ]
     },
     "metadata": {
      "needs_background": "light"
     },
     "output_type": "display_data"
    }
   ],
   "source": [
    "fig = plt.figure()\n",
    "class_ = [\"A1\",\"A2\",\"A3\"]\n",
    "ax = fig.add_axes([0,0,1,1])\n",
    "plt.title(\"Điểm từ 7 đến 8\")\n",
    "ax.bar(class_,[a1_fraction_of_seven_to_eight,a2_fraction_of_seven_to_eight,a3_fraction_of_seven_to_eight])"
   ]
  },
  {
   "cell_type": "markdown",
   "metadata": {},
   "source": [
    "### Từ 9 đến 10"
   ]
  },
  {
   "cell_type": "code",
   "execution_count": 185,
   "metadata": {},
   "outputs": [
    {
     "data": {
      "text/plain": [
       "<BarContainer object of 3 artists>"
      ]
     },
     "execution_count": 185,
     "metadata": {},
     "output_type": "execute_result"
    },
    {
     "data": {
      "image/png": "[encoded data removed]",
      "text/plain": [
       "<Figure size 432x288 with 1 Axes>"
      ]
     },
     "metadata": {
      "needs_background": "light"
     },
     "output_type": "display_data"
    }
   ],
   "source": [
    "fig = plt.figure()\n",
    "class_ = [\"A1\",\"A2\",\"A3\"]\n",
    "ax = fig.add_axes([0,0,1,1])\n",
    "plt.title(\"Điểm từ 9 đến 10\")\n",
    "ax.bar(class_,[a1_fraction_of_nine_to_ten,a2_fraction_of_nine_to_ten,a3_fraction_of_nine_to_ten])"
   ]
  },
  {
   "cell_type": "markdown",
   "metadata": {},
   "source": [
    "#### Trên đây là một vài số liệu và biểu đồ về điểm tiếng anh trong bài kiểm tra vừa qua của ba lớp A1,A2,A3"
   ]
  }
 ],
 "metadata": {
  "kernelspec": {
   "display_name": "Python 3",
   "language": "python",
   "name": "python3"
  },
  "language_info": {
   "codemirror_mode": {
    "name": "ipython",
    "version": 3
   },
   "file_extension": ".py",
   "mimetype": "text/x-python",
   "name": "python",
   "nbconvert_exporter": "python",
   "pygments_lexer": "ipython3",
   "version": "3.8.5"
  }
 },
 "nbformat": 4,
 "nbformat_minor": 4
}
